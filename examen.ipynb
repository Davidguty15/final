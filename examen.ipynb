{
 "cells": [
  {
   "cell_type": "markdown",
   "metadata": {},
   "source": [
    "# Examen Parcial de Python Básico"
   ]
  },
  {
   "cell_type": "markdown",
   "metadata": {},
   "source": [
    "## 1. Creación de variables y conceptos básicos\n",
    "\n",
    "1. ¿Qué es una variable en Python y cómo se declara?\n",
    "\n",
    "2. Declara una variable llamada `nombre` y asígnale tu nombre.\n",
    "\n",
    "3. ¿Qué tipos de datos básicos existen en Python? Da un ejemplo de cada uno."
   ]
  },
  {
   "cell_type": "code",
   "execution_count": 5,
   "metadata": {},
   "outputs": [],
   "source": [
    "#una variable es donde se puede guardar un elemento de cualquier tipo y se declara con el =\n",
    "nombre = \"harold\"\n",
    "string = \"hola\"\n",
    "int = 12\n",
    "booleano = True\n",
    "float = 1.01\n"
   ]
  },
  {
   "cell_type": "markdown",
   "metadata": {},
   "source": [
    "## 2. Operadores matemáticos y lógicos\n",
    "\n",
    "1. ¿Cuáles son los operadores matemáticos básicos en Python? Escribe un ejemplo de cada uno.\n",
    "\n",
    "2. ¿Qué operadores lógicos existen en Python? Da un ejemplo de uso de `and`, `or` y `not`."
   ]
  },
  {
   "cell_type": "code",
   "execution_count": 35,
   "metadata": {},
   "outputs": [
    {
     "name": "stdout",
     "output_type": "stream",
     "text": [
      "2\n"
     ]
    }
   ],
   "source": [
    "suma = 1+1\n",
    "resta = 2-1\n",
    "multiplicacion = 2*1\n",
    "print(multiplicacion)\n",
    "division = 1/2\n",
    "elevar = 1**2\n",
    "\n"
   ]
  },
  {
   "cell_type": "markdown",
   "metadata": {},
   "source": [
    "and\n",
    "not\n",
    "or"
   ]
  },
  {
   "cell_type": "code",
   "execution_count": 36,
   "metadata": {},
   "outputs": [
    {
     "name": "stdout",
     "output_type": "stream",
     "text": [
      "con que una de las dos condiciones se verdadera se imprime esto\n"
     ]
    }
   ],
   "source": [
    "if 1 == 1 or 1 == 2:\n",
    "    print(\"con que una de las dos condiciones se verdadera se imprime esto\")"
   ]
  },
  {
   "cell_type": "code",
   "execution_count": 32,
   "metadata": {},
   "outputs": [
    {
     "name": "stdout",
     "output_type": "stream",
     "text": [
      "se imprime esto porque not hace que la condicion si es true sea false y si es fase sea true\n"
     ]
    }
   ],
   "source": [
    "if not 2<1:\n",
    "    print(\"se imprime esto porque not hace que la condicion si es true sea false y si es fase sea true\")"
   ]
  },
  {
   "cell_type": "markdown",
   "metadata": {},
   "source": [
    "## 3. Listas\n",
    "\n",
    "1. ¿Qué es una lista en Python y cómo se declara?\n",
    "\n",
    "2. Crea una lista con los nombres de cinco frutas.\n",
    "\n",
    "3. Escribe un ciclo `for` que imprima cada fruta de la lista."
   ]
  },
  {
   "cell_type": "code",
   "execution_count": 3,
   "metadata": {},
   "outputs": [],
   "source": [
    "#una lista es una variable donde se puede almacenar multiples datos la cual es mutable\n",
    "lista = []#asi se declaea\n",
    "lista = [\"pera\", \"manzana\", \"banano\",\"uva\",\"fresa\"]"
   ]
  },
  {
   "cell_type": "markdown",
   "metadata": {},
   "source": [
    "## 4. Diccionarios\n",
    "\n",
    "1. ¿Qué es un diccionario en Python y para qué se utiliza?\n",
    "\n",
    "2. Crea un diccionario con información de una persona (nombre, edad, ciudad).\n",
    "\n",
    "3. Accede e imprime el valor de la clave `nombre`."
   ]
  },
  {
   "cell_type": "code",
   "execution_count": 2,
   "metadata": {},
   "outputs": [],
   "source": [
    "#un diccionario es un tipo de dato en el cual se almacenan mas datos los cuales tienen una clave para llamarlo y se utiliza para guardar informacion y llamarla con una respectiva clave\n",
    "\n",
    "datos = {\"nombre\": \"harold\",\n",
    "         \"edad\": 16,\n",
    "         \"ciudad\":\"san vicente\"}"
   ]
  },
  {
   "cell_type": "markdown",
   "metadata": {},
   "source": [
    "## 5. Tuplas\n",
    "\n",
    "1. ¿Qué es una tupla y en qué se diferencia de una lista?\n",
    "\n",
    "2. Crea una tupla con tres números y muestra el segundo elemento."
   ]
  },
  {
   "cell_type": "code",
   "execution_count": 8,
   "metadata": {},
   "outputs": [
    {
     "name": "stdout",
     "output_type": "stream",
     "text": [
      "2\n"
     ]
    }
   ],
   "source": [
    "#una tupla es un lugar en el cual se almacenan datos, a diferencia de las listas estas no se pueden modificar\n",
    "tupla = (1, 2, 3)\n",
    "print(tupla[1])"
   ]
  },
  {
   "cell_type": "markdown",
   "metadata": {},
   "source": [
    "## 6. Conjuntos (sets)\n",
    "\n",
    "1. ¿Qué es un conjunto en Python y para qué se utiliza?\n",
    "\n",
    "2. Crea un conjunto con los números 1, 2, 3, 4, 5 y agrega el número 6.\n",
    "\n",
    "3. Elimina el número 3 del conjunto y muestra el resultado."
   ]
  },
  {
   "cell_type": "code",
   "execution_count": 9,
   "metadata": {},
   "outputs": [
    {
     "name": "stdout",
     "output_type": "stream",
     "text": [
      "{1, 2, 4, 5, 6}\n"
     ]
    }
   ],
   "source": [
    "\n",
    "set = {1,2,3,4,5}\n",
    "set.add(6)\n",
    "set.remove(3)\n",
    "print(set)"
   ]
  },
  {
   "cell_type": "markdown",
   "metadata": {},
   "source": [
    "## 7. Condicionales\n",
    "\n",
    "1. ¿Para qué se usan las estructuras condicionales en Python?\n",
    "\n",
    "2. Escribe un programa que pida un número y diga si es positivo, negativo o cero."
   ]
  },
  {
   "cell_type": "code",
   "execution_count": 1,
   "metadata": {},
   "outputs": [
    {
     "name": "stdout",
     "output_type": "stream",
     "text": [
      "el numero es positivo\n"
     ]
    }
   ],
   "source": [
    "#se utilizan para determinar una ruta del codigo segun las condiciones\n",
    "numero =  int(input(\"ingresa un numero: \"))\n",
    "\n",
    "if numero > 0:\n",
    "    print(\"el numero es positivo\")\n",
    "elif numero < 0:\n",
    "    print(\"el numero es negativo\")\n",
    "else:\n",
    "    print(\"el numero es 0\")"
   ]
  }
 ],
 "metadata": {
  "kernelspec": {
   "display_name": "Python 3",
   "language": "python",
   "name": "python3"
  },
  "language_info": {
   "codemirror_mode": {
    "name": "ipython",
    "version": 3
   },
   "file_extension": ".py",
   "mimetype": "text/x-python",
   "name": "python",
   "nbconvert_exporter": "python",
   "pygments_lexer": "ipython3",
   "version": "3.13.3"
  }
 },
 "nbformat": 4,
 "nbformat_minor": 2
}
