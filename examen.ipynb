{
 "cells": [
  {
   "cell_type": "markdown",
   "metadata": {},
   "source": [
    "# Examen Parcial de Python Básico"
   ]
  },
  {
   "cell_type": "markdown",
   "metadata": {},
   "source": [
    "## 1. Creación de variables y conceptos básicos\n",
    "\n",
    "1. ¿Qué es una variable en Python y cómo se declara?\n",
    "\n",
    "2. Declara una variable llamada `nombre` y asígnale tu nombre.\n",
    "\n",
    "3. ¿Qué tipos de datos básicos existen en Python? Da un ejemplo de cada uno."
   ]
  },
  {
   "cell_type": "markdown",
   "metadata": {},
   "source": [
    "## 2. Operadores matemáticos y lógicos\n",
    "\n",
    "1. ¿Cuáles son los operadores matemáticos básicos en Python? Escribe un ejemplo de cada uno.\n",
    "\n",
    "2. ¿Qué operadores lógicos existen en Python? Da un ejemplo de uso de `and`, `or` y `not`."
   ]
  },
  {
   "cell_type": "markdown",
   "metadata": {},
   "source": [
    "## 3. Listas\n",
    "\n",
    "1. ¿Qué es una lista en Python y cómo se declara?\n",
    "\n",
    "2. Crea una lista con los nombres de cinco frutas.\n",
    "\n",
    "3. Escribe un ciclo `for` que imprima cada fruta de la lista."
   ]
  },
  {
   "cell_type": "markdown",
   "metadata": {},
   "source": [
    "## 4. Diccionarios\n",
    "\n",
    "1. ¿Qué es un diccionario en Python y para qué se utiliza?\n",
    "\n",
    "2. Crea un diccionario con información de una persona (nombre, edad, ciudad).\n",
    "\n",
    "3. Accede e imprime el valor de la clave `nombre`."
   ]
  },
  {
   "cell_type": "markdown",
   "metadata": {},
   "source": [
    "## 5. Tuplas\n",
    "\n",
    "1. ¿Qué es una tupla y en qué se diferencia de una lista?\n",
    "\n",
    "2. Crea una tupla con tres números y muestra el segundo elemento."
   ]
  },
  {
   "cell_type": "markdown",
   "metadata": {},
   "source": [
    "## 6. Conjuntos (sets)\n",
    "\n",
    "1. ¿Qué es un conjunto en Python y para qué se utiliza?\n",
    "\n",
    "2. Crea un conjunto con los números 1, 2, 3, 4, 5 y agrega el número 6.\n",
    "\n",
    "3. Elimina el número 3 del conjunto y muestra el resultado."
   ]
  },
  {
   "cell_type": "markdown",
   "metadata": {},
   "source": [
    "## 7. Condicionales\n",
    "\n",
    "1. ¿Para qué se usan las estructuras condicionales en Python?\n",
    "\n",
    "2. Escribe un programa que pida un número y diga si es positivo, negativo o cero."
   ]
  }
 ],
 "metadata": {
  "kernelspec": {
   "display_name": "Python 3",
   "language": "python",
   "name": "python3"
  },
  "language_info": {
   "name": "python",
   "version": ""
  }
 },
 "nbformat": 4,
 "nbformat_minor": 2
}
